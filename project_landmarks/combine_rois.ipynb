{
 "cells": [
  {
   "cell_type": "markdown",
   "metadata": {},
   "source": [
    "Goal: Investigate different ROI combination\n",
    "\n",
    "ex: forehead and cheeks, jaw and mustache, ..."
   ]
  },
  {
   "cell_type": "code",
   "execution_count": 1,
   "metadata": {},
   "outputs": [],
   "source": [
    "%load_ext autoreload\n",
    "%autoreload 2\n",
    "\n",
    "import pyVHR as vhr\n",
    "import numpy as np\n",
    "from pyVHR.analysis.pipeline import Pipeline\n",
    "from pyVHR.plot.visualize import *\n",
    "import os\n",
    "import plotly.express as px\n",
    "from pyVHR.utils.errors import getErrors, printErrors, displayErrors\n",
    "\n",
    "import constants\n",
    "import pandas as pd\n",
    "import pyVHR.analysis.pipelineLandmarks as custom_pipeline\n",
    "\n",
    "vhr.plot.VisualizeParams.renderer = 'vscode' "
   ]
  },
  {
   "cell_type": "code",
   "execution_count": 2,
   "metadata": {},
   "outputs": [
    {
     "name": "stdout",
     "output_type": "stream",
     "text": [
      "{'GYM': array([ 0,  4,  8, 12, 16, 20]), 'RESTING': array([ 1,  5,  9, 13, 17, 21]), 'ROTATION': array([ 2,  6, 10, 14, 18, 22]), 'TALK': array([ 3,  7, 11, 15, 19])}\n",
      "0 D:/datasets_rppg/lgi_ppgi\\alex\\alex_gym\\cv_camera_sensor_stream_handler.avi\n",
      "1 D:/datasets_rppg/lgi_ppgi\\alex\\alex_resting\\cv_camera_sensor_stream_handler.avi\n",
      "2 D:/datasets_rppg/lgi_ppgi\\alex\\alex_rotation\\cv_camera_sensor_stream_handler.avi\n",
      "3 D:/datasets_rppg/lgi_ppgi\\alex\\alex_talk\\cv_camera_sensor_stream_handler.avi\n",
      "4 D:/datasets_rppg/lgi_ppgi\\angelo\\angelo_gym\\cv_camera_sensor_stream_handler.avi\n",
      "5 D:/datasets_rppg/lgi_ppgi\\angelo\\angelo_resting\\cv_camera_sensor_stream_handler.avi\n",
      "6 D:/datasets_rppg/lgi_ppgi\\angelo\\angelo_rotation\\cv_camera_sensor_stream_handler.avi\n",
      "7 D:/datasets_rppg/lgi_ppgi\\angelo\\angelo_talk\\cv_camera_sensor_stream_handler.avi\n",
      "8 D:/datasets_rppg/lgi_ppgi\\cpi\\cpi_gym\\cv_camera_sensor_stream_handler.avi\n",
      "9 D:/datasets_rppg/lgi_ppgi\\cpi\\cpi_resting\\cv_camera_sensor_stream_handler.avi\n",
      "10 D:/datasets_rppg/lgi_ppgi\\cpi\\cpi_rotation\\cv_camera_sensor_stream_handler.avi\n",
      "11 D:/datasets_rppg/lgi_ppgi\\cpi\\cpi_talk\\cv_camera_sensor_stream_handler.avi\n",
      "12 D:/datasets_rppg/lgi_ppgi\\david\\david_gym\\cv_camera_sensor_stream_handler.avi\n",
      "13 D:/datasets_rppg/lgi_ppgi\\david\\david_resting\\cv_camera_sensor_stream_handler.avi\n",
      "14 D:/datasets_rppg/lgi_ppgi\\david\\david_rotation\\cv_camera_sensor_stream_handler.avi\n",
      "15 D:/datasets_rppg/lgi_ppgi\\david\\david_talk\\cv_camera_sensor_stream_handler.avi\n",
      "16 D:/datasets_rppg/lgi_ppgi\\felix\\felix_gym\\cv_camera_sensor_stream_handler.avi\n",
      "17 D:/datasets_rppg/lgi_ppgi\\felix\\felix_resting\\cv_camera_sensor_stream_handler.avi\n",
      "18 D:/datasets_rppg/lgi_ppgi\\felix\\felix_rotation\\cv_camera_sensor_stream_handler.avi\n",
      "19 D:/datasets_rppg/lgi_ppgi\\felix\\felix_talk\\cv_camera_sensor_stream_handler.avi\n",
      "20 D:/datasets_rppg/lgi_ppgi\\harun\\harun_gym\\cv_camera_sensor_stream_handler.avi\n",
      "21 D:/datasets_rppg/lgi_ppgi\\harun\\harun_resting\\cv_camera_sensor_stream_handler.avi\n",
      "22 D:/datasets_rppg/lgi_ppgi\\harun\\harun_rotation\\cv_camera_sensor_stream_handler.avi\n",
      "23 D:/datasets_rppg/lgi_ppgi\\harun\\harun_talk\\cv_camera_sensor_stream_handler.avi\n"
     ]
    }
   ],
   "source": [
    "# -- LOAD A DATASET\n",
    "\n",
    "dataset_name = 'lgi_ppgi'    \n",
    "video_DIR, BVP_DIR = constants.get_dataset_paths(dataset_name)\n",
    "\n",
    "dataset = vhr.datasets.datasetFactory(dataset_name, videodataDIR=video_DIR, BVPdataDIR=BVP_DIR)\n",
    "allvideo = dataset.videoFilenames\n",
    "\n",
    "videos = constants.get_video_settings(dataset_name)\n",
    "print(videos)\n",
    "\n",
    "# print the list of video names with the progressive index (idx)\n",
    "for v in range(len(allvideo)):\n",
    "  print(v, allvideo[v])"
   ]
  },
  {
   "cell_type": "code",
   "execution_count": 3,
   "metadata": {},
   "outputs": [
    {
     "name": "stdout",
     "output_type": "stream",
     "text": [
      "Patch size for lgi_ppgi is 40 \n",
      "Testing ROI = mustache with minimum 2 landmarks\n"
     ]
    }
   ],
   "source": [
    "# -- PARAMETER SETTING\n",
    "\n",
    "roi = 'mustache'      # jaw, forehead, cheeks, nose, temple, lip\n",
    "wsize = 8        # seconds of video processed (with overlapping) for each estimate \n",
    "min_len = 2     # minimum number of landmarks tested\n",
    "patch_size = constants.get_patch_size(dataset_name)\n",
    "print(f\"Patch size for {dataset_name} is {patch_size} \")\n",
    "print(f\"Testing ROI = {roi} with minimum {min_len} landmarks\")  "
   ]
  },
  {
   "cell_type": "markdown",
   "metadata": {},
   "source": [
    "# ROI"
   ]
  },
  {
   "cell_type": "code",
   "execution_count": 4,
   "metadata": {},
   "outputs": [],
   "source": [
    "rois = {\n",
    "  'forehead': [   \n",
    "      'lower_medial_forehead','glabella','left_lower_lateral_forehead','right_lower_lateral_forehead'\n",
    "    ],\n",
    " 'nose': [\n",
    "    'upper_nasal_dorsum','lower_nasal_dorsum','left_mid_nasal_sidewall','right_mid_nasal_sidewall','left_lower_nasal_sidewall',\n",
    "    'right_lower_nasal_sidewall','nasal_tip','soft_triangle','left_ala','right_ala'\n",
    "  ],\n",
    "  'cheeks':[\n",
    "    'left_malar','right_malar', 'left_lower_cheek','right_lower_cheek'\n",
    "  ],\n",
    "  'jaw':[\n",
    "    'left_marionette_fold','right_marionette_fold','chin'\n",
    "  ],\n",
    "  'temple':[\n",
    "    'left_temporal','right_temporal'\n",
    "  ],\n",
    "  'mustache':[\n",
    "    'left_nasolabial_fold','right_nasolabial_fold','left_upper_lip','right_upper_lip','philtrum'\n",
    "  ],\n",
    "}\n",
    "\n",
    "forehead_params = [['left_lower_lateral_forehead', 'right_lower_lateral_forehead'], ['glabella', 'lower_medial_forehead'],  ['left_lower_lateral_forehead', 'lower_medial_forehead', 'right_lower_lateral_forehead'],['glabella', 'left_lower_lateral_forehead', 'right_lower_lateral_forehead'],['glabella', 'left_lower_lateral_forehead', 'lower_medial_forehead', 'right_lower_lateral_forehead']]\n",
    "cheeks_params =  [['left_malar', 'right_malar'], ['left_lower_cheek', 'right_lower_cheek'], ['left_lower_cheek', 'left_malar', 'right_lower_cheek', 'right_malar']]\n",
    "jaw_params = [['left_marionette_fold', 'right_marionette_fold'], ['chin', 'left_marionette_fold', 'right_marionette_fold']]\n",
    "mustache_params = [['left_nasolabial_fold', 'right_nasolabial_fold'], ['left_upper_lip', 'right_upper_lip'], ['left_nasolabial_fold', 'philtrum', 'right_nasolabial_fold'], ['left_upper_lip', 'philtrum', 'right_upper_lip'], ['left_nasolabial_fold', 'left_upper_lip', 'right_nasolabial_fold', 'right_upper_lip'], ['left_nasolabial_fold', 'left_upper_lip', 'philtrum', 'right_nasolabial_fold', 'right_upper_lip']]"
   ]
  },
  {
   "cell_type": "code",
   "execution_count": 5,
   "metadata": {},
   "outputs": [
    {
     "name": "stdout",
     "output_type": "stream",
     "text": [
      "6 [('forehead', 'cheeks'), ('forehead', 'jaw'), ('forehead', 'mustache'), ('cheeks', 'jaw'), ('cheeks', 'mustache'), ('jaw', 'mustache')]\n",
      "{('forehead', 'cheeks'): ['lower_medial_forehead', 'glabella', 'left_lower_lateral_forehead', 'right_lower_lateral_forehead', 'left_malar', 'right_malar', 'left_lower_cheek', 'right_lower_cheek'], ('forehead', 'jaw'): ['lower_medial_forehead', 'glabella', 'left_lower_lateral_forehead', 'right_lower_lateral_forehead', 'left_marionette_fold', 'right_marionette_fold', 'chin'], ('forehead', 'mustache'): ['lower_medial_forehead', 'glabella', 'left_lower_lateral_forehead', 'right_lower_lateral_forehead', 'left_nasolabial_fold', 'right_nasolabial_fold', 'left_upper_lip', 'right_upper_lip', 'philtrum'], ('cheeks', 'jaw'): ['left_malar', 'right_malar', 'left_lower_cheek', 'right_lower_cheek', 'left_marionette_fold', 'right_marionette_fold', 'chin'], ('cheeks', 'mustache'): ['left_malar', 'right_malar', 'left_lower_cheek', 'right_lower_cheek', 'left_nasolabial_fold', 'right_nasolabial_fold', 'left_upper_lip', 'right_upper_lip', 'philtrum'], ('jaw', 'mustache'): ['left_marionette_fold', 'right_marionette_fold', 'chin', 'left_nasolabial_fold', 'right_nasolabial_fold', 'left_upper_lip', 'right_upper_lip', 'philtrum']}\n"
     ]
    }
   ],
   "source": [
    "from itertools import chain, combinations\n",
    "\n",
    "def get_combinations(elements, min_len=2, max_len=3):\n",
    "    combs = list(chain.from_iterable(combinations(elements, r) for r in range(min_len,max_len)))\n",
    "    return [tuple(i) for i in combs]\n",
    "\n",
    "roi_list = [ele for ele in list(rois.keys()) if ele != 'temple' and ele != 'nose']\n",
    "roi_combinations = get_combinations(roi_list, min_len, min_len+1)\n",
    "print(len(roi_combinations),roi_combinations)\n",
    "\n",
    "# roi_combinations = [('forehead', 'mustache'), ('mustache', 'jaw'), ('mustache', 'cheeks')]\n",
    "landmarks_dict = dict()\n",
    "for roi_combination in roi_combinations:\n",
    "    landmarks_dict[roi_combination] = [ldmk for roi in list(map(rois.get, roi_combination)) for ldmk in roi]\n",
    "landmarks_list = list(landmarks_dict.values())\n",
    "landmarks_keys = list(landmarks_dict.keys())\n",
    "print(landmarks_dict)"
   ]
  },
  {
   "cell_type": "markdown",
   "metadata": {},
   "source": [
    "# Pipeline"
   ]
  },
  {
   "cell_type": "code",
   "execution_count": 6,
   "metadata": {},
   "outputs": [],
   "source": [
    "class CombineLandmarks:\n",
    "    def __init__(self, videos, dataset, winsize, patch_size, pipeline, methods=['cupy_CHROM'], verb=False):\n",
    "        self.dataset = dataset\n",
    "        self.winsize = winsize\n",
    "        self.patch_size = patch_size\n",
    "        self.methods = methods\n",
    "        self.pipeline = pipeline\n",
    "        self.res = pd.DataFrame()\n",
    "        self.verb = verb\n",
    "\n",
    "        # Load ground truth data\n",
    "        self.sigGT = []\n",
    "        self.timesGT = []\n",
    "        self.bpmGT = []\n",
    "        self.videoFileName = []\n",
    "        self.losses = []\n",
    "        self.load_ground_truth(videos)\n",
    "\n",
    "    def load_ground_truth(self, videos):\n",
    "        for videoIdx in videos:\n",
    "            try: \n",
    "                fname = dataset.getSigFilename(videoIdx)\n",
    "                sigGT = dataset.readSigfile(fname)\n",
    "                bpmGT, timesGT = sigGT.getBPM(self.winsize)\n",
    "                self.sigGT.append(sigGT)\n",
    "                self.bpmGT.append(bpmGT)\n",
    "                self.timesGT.append(timesGT)\n",
    "                self.videoFileName.append(dataset.getVideoFilename(videoIdx))\n",
    "                self.fps = vhr.extraction.get_fps(self.videoFileName[-1]) # assuming they are all the same\n",
    "            except Exception as e:\n",
    "                print(f\"{videoIdx}: {e}\")\n",
    "                continue\n",
    "        print('Video name: ', {len(self.videoFileName)}, self.videoFileName)\n",
    "        print('Video frame rate: ',self.fps)\n",
    "\n",
    "    def process(self,landmarks):\n",
    "        losses = []\n",
    "        for i, videoName in enumerate(self.videoFileName):\n",
    "            print(videoName)\n",
    "            res = self.pipeline.run_on_video_multimethods(\n",
    "                    ldmks_list=landmarks, \n",
    "                    videoFileName=self.videoFileName[i], bpmGT=self.bpmGT[i], timesGT=self.timesGT[i], \n",
    "                    methods=self.methods, winsize=self.winsize, patch_size=self.patch_size,\n",
    "                    verb=self.verb\n",
    "                )\n",
    "            losses.append(res.dict['RMSE'][0]) # suppose we are minimizing RMSE\n",
    "            self.res = pd.concat([self.res, res.dataFrame])\n",
    "        print(f\"Total loss for {landmarks}: {sum(losses)}\")\n",
    "        self.losses.append(losses)\n",
    "\n",
    "    def fit(self, landmarks_list):\n",
    "        for landmarks in landmarks_list:\n",
    "            print(\"Processing landmarks: \", landmarks)\n",
    "            self.process(landmarks)"
   ]
  },
  {
   "cell_type": "code",
   "execution_count": 25,
   "metadata": {},
   "outputs": [
    {
     "name": "stdout",
     "output_type": "stream",
     "text": [
      "('cheeks', 'jaw') ['left_malar', 'right_malar', 'left_lower_cheek', 'right_lower_cheek', 'left_marionette_fold', 'right_marionette_fold', 'chin']\n"
     ]
    }
   ],
   "source": [
    "idx = 3\n",
    "print(landmarks_keys[idx], landmarks_dict[landmarks_keys[idx]])\n"
   ]
  },
  {
   "cell_type": "code",
   "execution_count": 26,
   "metadata": {},
   "outputs": [
    {
     "name": "stdout",
     "output_type": "stream",
     "text": [
      "4: Unusable data.\n",
      "16: Unusable data.\n",
      "Video name:  {22} ['D:/datasets_rppg/lgi_ppgi\\\\alex\\\\alex_gym\\\\cv_camera_sensor_stream_handler.avi', 'D:/datasets_rppg/lgi_ppgi\\\\alex\\\\alex_resting\\\\cv_camera_sensor_stream_handler.avi', 'D:/datasets_rppg/lgi_ppgi\\\\alex\\\\alex_rotation\\\\cv_camera_sensor_stream_handler.avi', 'D:/datasets_rppg/lgi_ppgi\\\\alex\\\\alex_talk\\\\cv_camera_sensor_stream_handler.avi', 'D:/datasets_rppg/lgi_ppgi\\\\angelo\\\\angelo_resting\\\\cv_camera_sensor_stream_handler.avi', 'D:/datasets_rppg/lgi_ppgi\\\\angelo\\\\angelo_rotation\\\\cv_camera_sensor_stream_handler.avi', 'D:/datasets_rppg/lgi_ppgi\\\\angelo\\\\angelo_talk\\\\cv_camera_sensor_stream_handler.avi', 'D:/datasets_rppg/lgi_ppgi\\\\cpi\\\\cpi_gym\\\\cv_camera_sensor_stream_handler.avi', 'D:/datasets_rppg/lgi_ppgi\\\\cpi\\\\cpi_resting\\\\cv_camera_sensor_stream_handler.avi', 'D:/datasets_rppg/lgi_ppgi\\\\cpi\\\\cpi_rotation\\\\cv_camera_sensor_stream_handler.avi', 'D:/datasets_rppg/lgi_ppgi\\\\cpi\\\\cpi_talk\\\\cv_camera_sensor_stream_handler.avi', 'D:/datasets_rppg/lgi_ppgi\\\\david\\\\david_gym\\\\cv_camera_sensor_stream_handler.avi', 'D:/datasets_rppg/lgi_ppgi\\\\david\\\\david_resting\\\\cv_camera_sensor_stream_handler.avi', 'D:/datasets_rppg/lgi_ppgi\\\\david\\\\david_rotation\\\\cv_camera_sensor_stream_handler.avi', 'D:/datasets_rppg/lgi_ppgi\\\\david\\\\david_talk\\\\cv_camera_sensor_stream_handler.avi', 'D:/datasets_rppg/lgi_ppgi\\\\felix\\\\felix_resting\\\\cv_camera_sensor_stream_handler.avi', 'D:/datasets_rppg/lgi_ppgi\\\\felix\\\\felix_rotation\\\\cv_camera_sensor_stream_handler.avi', 'D:/datasets_rppg/lgi_ppgi\\\\felix\\\\felix_talk\\\\cv_camera_sensor_stream_handler.avi', 'D:/datasets_rppg/lgi_ppgi\\\\harun\\\\harun_gym\\\\cv_camera_sensor_stream_handler.avi', 'D:/datasets_rppg/lgi_ppgi\\\\harun\\\\harun_resting\\\\cv_camera_sensor_stream_handler.avi', 'D:/datasets_rppg/lgi_ppgi\\\\harun\\\\harun_rotation\\\\cv_camera_sensor_stream_handler.avi', 'D:/datasets_rppg/lgi_ppgi\\\\harun\\\\harun_talk\\\\cv_camera_sensor_stream_handler.avi']\n",
      "Video frame rate:  25.0\n",
      "('jaw', 'mustache') ['left_marionette_fold', 'right_marionette_fold', 'chin', 'left_nasolabial_fold', 'right_nasolabial_fold', 'left_upper_lip', 'right_upper_lip', 'philtrum']\n",
      "Processing landmarks:  ['left_marionette_fold', 'right_marionette_fold', 'chin', 'left_nasolabial_fold', 'right_nasolabial_fold', 'left_upper_lip', 'right_upper_lip', 'philtrum']\n",
      "D:/datasets_rppg/lgi_ppgi\\alex\\alex_gym\\cv_camera_sensor_stream_handler.avi\n",
      "D:/datasets_rppg/lgi_ppgi\\alex\\alex_resting\\cv_camera_sensor_stream_handler.avi\n",
      "D:/datasets_rppg/lgi_ppgi\\alex\\alex_rotation\\cv_camera_sensor_stream_handler.avi\n",
      "D:/datasets_rppg/lgi_ppgi\\alex\\alex_talk\\cv_camera_sensor_stream_handler.avi\n",
      "D:/datasets_rppg/lgi_ppgi\\angelo\\angelo_resting\\cv_camera_sensor_stream_handler.avi\n",
      "D:/datasets_rppg/lgi_ppgi\\angelo\\angelo_rotation\\cv_camera_sensor_stream_handler.avi\n",
      "D:/datasets_rppg/lgi_ppgi\\angelo\\angelo_talk\\cv_camera_sensor_stream_handler.avi\n",
      "D:/datasets_rppg/lgi_ppgi\\cpi\\cpi_gym\\cv_camera_sensor_stream_handler.avi\n",
      "D:/datasets_rppg/lgi_ppgi\\cpi\\cpi_resting\\cv_camera_sensor_stream_handler.avi\n",
      "D:/datasets_rppg/lgi_ppgi\\cpi\\cpi_rotation\\cv_camera_sensor_stream_handler.avi\n",
      "D:/datasets_rppg/lgi_ppgi\\cpi\\cpi_talk\\cv_camera_sensor_stream_handler.avi\n",
      "D:/datasets_rppg/lgi_ppgi\\david\\david_gym\\cv_camera_sensor_stream_handler.avi\n",
      "D:/datasets_rppg/lgi_ppgi\\david\\david_resting\\cv_camera_sensor_stream_handler.avi\n",
      "D:/datasets_rppg/lgi_ppgi\\david\\david_rotation\\cv_camera_sensor_stream_handler.avi\n",
      "D:/datasets_rppg/lgi_ppgi\\david\\david_talk\\cv_camera_sensor_stream_handler.avi\n",
      "D:/datasets_rppg/lgi_ppgi\\felix\\felix_resting\\cv_camera_sensor_stream_handler.avi\n",
      "D:/datasets_rppg/lgi_ppgi\\felix\\felix_rotation\\cv_camera_sensor_stream_handler.avi\n",
      "D:/datasets_rppg/lgi_ppgi\\felix\\felix_talk\\cv_camera_sensor_stream_handler.avi\n"
     ]
    }
   ],
   "source": [
    "pl = custom_pipeline.LandmarksPipeline()\n",
    "# np.arange(0, len(dataset.videoFilenames))\n",
    "model = CombineLandmarks(np.arange(0, len(dataset.videoFilenames)), dataset, wsize, patch_size, pl, methods=['cupy_CHROM'], verb=False)\n",
    "\n",
    "idx = 5\n",
    "print(landmarks_keys[idx], landmarks_dict[landmarks_keys[idx]])\n",
    "model.fit([landmarks_dict[landmarks_keys[idx]]])"
   ]
  },
  {
   "cell_type": "code",
   "execution_count": null,
   "metadata": {},
   "outputs": [
    {
     "data": {
      "text/html": [
       "<div>\n",
       "<style scoped>\n",
       "    .dataframe tbody tr th:only-of-type {\n",
       "        vertical-align: middle;\n",
       "    }\n",
       "\n",
       "    .dataframe tbody tr th {\n",
       "        vertical-align: top;\n",
       "    }\n",
       "\n",
       "    .dataframe thead th {\n",
       "        text-align: right;\n",
       "    }\n",
       "</style>\n",
       "<table border=\"1\" class=\"dataframe\">\n",
       "  <thead>\n",
       "    <tr style=\"text-align: right;\">\n",
       "      <th></th>\n",
       "      <th>method</th>\n",
       "      <th>dataset</th>\n",
       "      <th>videoIdx</th>\n",
       "      <th>sigFilename</th>\n",
       "      <th>videoFilename</th>\n",
       "      <th>RMSE</th>\n",
       "      <th>MAE</th>\n",
       "      <th>PCC</th>\n",
       "      <th>CCC</th>\n",
       "      <th>SNR</th>\n",
       "      <th>MAX</th>\n",
       "      <th>MAD</th>\n",
       "      <th>bpmGT</th>\n",
       "      <th>bpmES</th>\n",
       "      <th>bpmES_mad</th>\n",
       "      <th>timeGT</th>\n",
       "      <th>timeES</th>\n",
       "      <th>TIME_REQUIREMENT</th>\n",
       "      <th>landmarks</th>\n",
       "    </tr>\n",
       "  </thead>\n",
       "  <tbody>\n",
       "    <tr>\n",
       "      <th>0</th>\n",
       "      <td>cupy_CHROM</td>\n",
       "      <td></td>\n",
       "      <td></td>\n",
       "      <td></td>\n",
       "      <td>D:/datasets_rppg/lgi_ppgi\\alex\\alex_gym\\cv_cam...</td>\n",
       "      <td>[38.36790400628634]</td>\n",
       "      <td>[30.23488331330128]</td>\n",
       "      <td>[0.279113156416931]</td>\n",
       "      <td>[0.15404849139646531]</td>\n",
       "      <td>[-6.257202795849969]</td>\n",
       "      <td>[87.462890625]</td>\n",
       "      <td>[16.4794921875, 4.39453125, 1.46484375, 1.4648...</td>\n",
       "      <td>[101.0, 100.0, 97.0, 94.5, 93.0, 93.0, 93.0, 9...</td>\n",
       "      <td>[74.3408203125, 54.931640625, 50.537109375, 47...</td>\n",
       "      <td></td>\n",
       "      <td>[0.0, 1.0, 2.0, 3.0, 4.0, 5.0, 6.0, 7.0, 8.0, ...</td>\n",
       "      <td>[4.0, 5.0, 6.0, 7.0, 8.0, 9.0, 10.0, 11.0, 12....</td>\n",
       "      <td>188.866689</td>\n",
       "      <td>[left_marionette_fold, right_marionette_fold, ...</td>\n",
       "    </tr>\n",
       "  </tbody>\n",
       "</table>\n",
       "</div>"
      ],
      "text/plain": [
       "       method dataset videoIdx sigFilename  \\\n",
       "0  cupy_CHROM                                \n",
       "\n",
       "                                       videoFilename                 RMSE  \\\n",
       "0  D:/datasets_rppg/lgi_ppgi\\alex\\alex_gym\\cv_cam...  [38.36790400628634]   \n",
       "\n",
       "                   MAE                  PCC                    CCC  \\\n",
       "0  [30.23488331330128]  [0.279113156416931]  [0.15404849139646531]   \n",
       "\n",
       "                    SNR             MAX  \\\n",
       "0  [-6.257202795849969]  [87.462890625]   \n",
       "\n",
       "                                                 MAD  \\\n",
       "0  [16.4794921875, 4.39453125, 1.46484375, 1.4648...   \n",
       "\n",
       "                                               bpmGT  \\\n",
       "0  [101.0, 100.0, 97.0, 94.5, 93.0, 93.0, 93.0, 9...   \n",
       "\n",
       "                                               bpmES bpmES_mad  \\\n",
       "0  [74.3408203125, 54.931640625, 50.537109375, 47...             \n",
       "\n",
       "                                              timeGT  \\\n",
       "0  [0.0, 1.0, 2.0, 3.0, 4.0, 5.0, 6.0, 7.0, 8.0, ...   \n",
       "\n",
       "                                              timeES  TIME_REQUIREMENT  \\\n",
       "0  [4.0, 5.0, 6.0, 7.0, 8.0, 9.0, 10.0, 11.0, 12....        188.866689   \n",
       "\n",
       "                                           landmarks  \n",
       "0  [left_marionette_fold, right_marionette_fold, ...  "
      ]
     },
     "execution_count": 22,
     "metadata": {},
     "output_type": "execute_result"
    }
   ],
   "source": [
    "df = model.res.reset_index(drop=True)\n",
    "df.head(1)"
   ]
  },
  {
   "cell_type": "code",
   "execution_count": null,
   "metadata": {},
   "outputs": [
    {
     "name": "stdout",
     "output_type": "stream",
     "text": [
      "('jaw', 'mustache')\n",
      "(22, 19) 1\n"
     ]
    },
    {
     "data": {
      "text/html": [
       "<div>\n",
       "<style scoped>\n",
       "    .dataframe tbody tr th:only-of-type {\n",
       "        vertical-align: middle;\n",
       "    }\n",
       "\n",
       "    .dataframe tbody tr th {\n",
       "        vertical-align: top;\n",
       "    }\n",
       "\n",
       "    .dataframe thead th {\n",
       "        text-align: right;\n",
       "    }\n",
       "</style>\n",
       "<table border=\"1\" class=\"dataframe\">\n",
       "  <thead>\n",
       "    <tr style=\"text-align: right;\">\n",
       "      <th></th>\n",
       "      <th>method</th>\n",
       "      <th>dataset</th>\n",
       "      <th>videoFilename</th>\n",
       "      <th>videoIdx</th>\n",
       "      <th>RMSE</th>\n",
       "      <th>MAE</th>\n",
       "      <th>PCC</th>\n",
       "      <th>CCC</th>\n",
       "      <th>SNR</th>\n",
       "      <th>MAX</th>\n",
       "      <th>MAD</th>\n",
       "      <th>DTW</th>\n",
       "      <th>bpmGT</th>\n",
       "      <th>bpmES</th>\n",
       "      <th>timeGT</th>\n",
       "      <th>timeES</th>\n",
       "      <th>TIME_REQUIREMENT</th>\n",
       "      <th>landmarks</th>\n",
       "      <th>roi</th>\n",
       "    </tr>\n",
       "  </thead>\n",
       "  <tbody>\n",
       "    <tr>\n",
       "      <th>0</th>\n",
       "      <td>cupy_CHROM</td>\n",
       "      <td>lgi_ppgi</td>\n",
       "      <td>alex_gym</td>\n",
       "      <td>0</td>\n",
       "      <td>[38.36790400628634]</td>\n",
       "      <td>[30.23488331330128]</td>\n",
       "      <td>[0.279113156416931]</td>\n",
       "      <td>[0.15404849139646531]</td>\n",
       "      <td>[-6.257202795849969]</td>\n",
       "      <td>[87.462890625]</td>\n",
       "      <td>[16.4794921875, 4.39453125, 1.46484375, 1.4648...</td>\n",
       "      <td>[7354.14453125]</td>\n",
       "      <td>[101.0, 100.0, 97.0, 94.5, 93.0, 93.0, 93.0, 9...</td>\n",
       "      <td>[74.3408203125, 54.931640625, 50.537109375, 47...</td>\n",
       "      <td>[0.0, 1.0, 2.0, 3.0, 4.0, 5.0, 6.0, 7.0, 8.0, ...</td>\n",
       "      <td>[4.0, 5.0, 6.0, 7.0, 8.0, 9.0, 10.0, 11.0, 12....</td>\n",
       "      <td>188.866689</td>\n",
       "      <td>(left_marionette_fold, right_marionette_fold, ...</td>\n",
       "      <td>jaw_mustache</td>\n",
       "    </tr>\n",
       "  </tbody>\n",
       "</table>\n",
       "</div>"
      ],
      "text/plain": [
       "       method   dataset videoFilename  videoIdx                 RMSE  \\\n",
       "0  cupy_CHROM  lgi_ppgi      alex_gym         0  [38.36790400628634]   \n",
       "\n",
       "                   MAE                  PCC                    CCC  \\\n",
       "0  [30.23488331330128]  [0.279113156416931]  [0.15404849139646531]   \n",
       "\n",
       "                    SNR             MAX  \\\n",
       "0  [-6.257202795849969]  [87.462890625]   \n",
       "\n",
       "                                                 MAD              DTW  \\\n",
       "0  [16.4794921875, 4.39453125, 1.46484375, 1.4648...  [7354.14453125]   \n",
       "\n",
       "                                               bpmGT  \\\n",
       "0  [101.0, 100.0, 97.0, 94.5, 93.0, 93.0, 93.0, 9...   \n",
       "\n",
       "                                               bpmES  \\\n",
       "0  [74.3408203125, 54.931640625, 50.537109375, 47...   \n",
       "\n",
       "                                              timeGT  \\\n",
       "0  [0.0, 1.0, 2.0, 3.0, 4.0, 5.0, 6.0, 7.0, 8.0, ...   \n",
       "\n",
       "                                              timeES  TIME_REQUIREMENT  \\\n",
       "0  [4.0, 5.0, 6.0, 7.0, 8.0, 9.0, 10.0, 11.0, 12....        188.866689   \n",
       "\n",
       "                                           landmarks           roi  \n",
       "0  (left_marionette_fold, right_marionette_fold, ...  jaw_mustache  "
      ]
     },
     "execution_count": 23,
     "metadata": {},
     "output_type": "execute_result"
    }
   ],
   "source": [
    "print(roi_combinations[idx])\n",
    "df['landmarks'] = df['landmarks'].apply(lambda x: tuple(x))\n",
    "df['videoIdx'] = df['videoFilename'].apply(lambda x: allvideo.index(x))\n",
    "if dataset_name == 'lgi_ppgi':\n",
    "  df['videoFilename'] = df['videoFilename'].apply(lambda x: x.split('\\\\')[2])\n",
    "if dataset_name == 'mr_nirp':\n",
    "  df['videoFilename'] = df['videoFilename'].apply(lambda x: x.split('\\\\')[1])\n",
    "df['dataset'] = f'{dataset_name}'\n",
    "df['roi'] = '_'.join(roi_combinations[idx])\n",
    "# df['dataset'] = f'{dataset_name}_{roi}'\n",
    "# if dataset_name == 'lgi_ppgi':\n",
    "#   df['videoFilename'] = df.videoFilename.apply(lambda x: x.split('\\\\')[2])\n",
    "# if dataset_name == 'mr_nirp':\n",
    "#   df['videoFilename'] = df.videoFilename.apply(lambda x: x.split('\\\\')[2])\n",
    "indexes = {}\n",
    "for v in range(len(allvideo)):\n",
    "  indexes[allvideo[v].split('\\\\')[2]] = v\n",
    "indexes = pd.DataFrame({'videoIdx':list(indexes.values()), 'videoFilename':list(indexes.keys())})\n",
    "df = df.drop(columns=['sigFilename', 'bpmES_mad', 'videoIdx'])\n",
    "df.insert(3, 'videoIdx', df['videoFilename'].map(indexes.set_index('videoFilename')['videoIdx']))\n",
    "\n",
    "from fastdtw import fastdtw\n",
    "df.insert(11, 'DTW', None)\n",
    "for row in df.itertuples():\n",
    "  distance, path = fastdtw(row.bpmGT, row.bpmES)\n",
    "  df.loc[row.Index, 'DTW'] = [distance]\n",
    "\n",
    "print(df.shape, df.landmarks.unique().size)\n",
    "df.head(1)"
   ]
  },
  {
   "cell_type": "code",
   "execution_count": 24,
   "metadata": {},
   "outputs": [
    {
     "name": "stderr",
     "output_type": "stream",
     "text": [
      "C:\\Users\\erolland\\AppData\\Local\\Temp\\3\\ipykernel_15624\\221195730.py:3: PerformanceWarning: \n",
      "your performance may suffer as PyTables will pickle object types that it cannot\n",
      "map directly to c-types [inferred_type->mixed,key->block2_values] [items->Index(['method', 'dataset', 'videoFilename', 'RMSE', 'MAE', 'PCC', 'CCC',\n",
      "       'SNR', 'MAX', 'MAD', 'DTW', 'bpmGT', 'bpmES', 'timeGT', 'timeES',\n",
      "       'landmarks', 'roi'],\n",
      "      dtype='object')]\n",
      "\n",
      "  new.to_hdf(f'../results/test_landmarks/{dataset_name.upper()}_combine_roi.h5', key='df', mode='w')\n"
     ]
    }
   ],
   "source": [
    "old = pd.read_hdf(f'../results/test_landmarks/{dataset_name.upper()}_combine_roi.h5')\n",
    "new = pd.concat([old, df])\n",
    "new.to_hdf(f'../results/test_landmarks/{dataset_name.upper()}_combine_roi.h5', key='df', mode='w')"
   ]
  },
  {
   "cell_type": "code",
   "execution_count": 35,
   "metadata": {},
   "outputs": [
    {
     "name": "stdout",
     "output_type": "stream",
     "text": [
      "(132, 18) 6 6\n",
      "['lgi_ppgi_forehead_cheeks' 'lgi_ppgi_forehead_jaw' 'lgi_ppgi_jaw_cheeks'\n",
      " 'lgi_ppgi_forehead_mustache' 'lgi_ppgi_cheeks_mustache'\n",
      " 'lgi_ppgi_jaw_mustache']\n"
     ]
    }
   ],
   "source": [
    "x = pd.read_hdf(f'../results/test_landmarks/{dataset_name.upper()}_combine_roi.h5', key='df',)\n",
    "print(x.shape, x.landmarks.unique().size, x.dataset.unique().size )\n",
    "print(x.dataset.unique())"
   ]
  },
  {
   "cell_type": "code",
   "execution_count": 127,
   "metadata": {},
   "outputs": [
    {
     "name": "stdout",
     "output_type": "stream",
     "text": [
      "6 [('forehead', 'cheeks'), ('forehead', 'jaw'), ('forehead', 'mustache'), ('cheeks', 'jaw'), ('cheeks', 'mustache'), ('jaw', 'mustache')]\n",
      "{('forehead', 'cheeks'): ['lower_medial_forehead', 'glabella', 'left_lower_lateral_forehead', 'right_lower_lateral_forehead', 'left_malar', 'right_malar', 'left_lower_cheek', 'right_lower_cheek'], ('forehead', 'jaw'): ['lower_medial_forehead', 'glabella', 'left_lower_lateral_forehead', 'right_lower_lateral_forehead', 'left_marionette_fold', 'right_marionette_fold', 'chin'], ('forehead', 'mustache'): ['lower_medial_forehead', 'glabella', 'left_lower_lateral_forehead', 'right_lower_lateral_forehead', 'left_nasolabial_fold', 'right_nasolabial_fold', 'left_upper_lip', 'right_upper_lip', 'philtrum'], ('jaw', 'cheeks'): ['left_marionette_fold', 'right_marionette_fold', 'chin', 'left_malar', 'right_malar', 'left_lower_cheek', 'right_lower_cheek'], ('cheeks', 'mustache'): ['left_malar', 'right_malar', 'left_lower_cheek', 'right_lower_cheek', 'left_nasolabial_fold', 'right_nasolabial_fold', 'left_upper_lip', 'right_upper_lip', 'philtrum'], ('jaw', 'mustache'): ['left_marionette_fold', 'right_marionette_fold', 'chin', 'left_nasolabial_fold', 'right_nasolabial_fold', 'left_upper_lip', 'right_upper_lip', 'philtrum']}\n",
      "{('forehead', 'cheeks'): ['lower_medial_forehead', 'glabella', 'left_lower_lateral_forehead', 'right_lower_lateral_forehead', 'left_malar', 'right_malar', 'left_lower_cheek', 'right_lower_cheek'], ('forehead', 'jaw'): ['lower_medial_forehead', 'glabella', 'left_lower_lateral_forehead', 'right_lower_lateral_forehead', 'left_marionette_fold', 'right_marionette_fold', 'chin'], ('forehead', 'mustache'): ['lower_medial_forehead', 'glabella', 'left_lower_lateral_forehead', 'right_lower_lateral_forehead', 'left_nasolabial_fold', 'right_nasolabial_fold', 'left_upper_lip', 'right_upper_lip', 'philtrum'], ('jaw', 'cheeks'): ['left_marionette_fold', 'right_marionette_fold', 'chin', 'left_malar', 'right_malar', 'left_lower_cheek', 'right_lower_cheek'], ('cheeks', 'mustache'): ['left_malar', 'right_malar', 'left_lower_cheek', 'right_lower_cheek', 'left_nasolabial_fold', 'right_nasolabial_fold', 'left_upper_lip', 'right_upper_lip', 'philtrum'], ('jaw', 'mustache'): ['left_marionette_fold', 'right_marionette_fold', 'chin', 'left_nasolabial_fold', 'right_nasolabial_fold', 'left_upper_lip', 'right_upper_lip', 'philtrum']}\n"
     ]
    },
    {
     "data": {
      "text/html": [
       "<div>\n",
       "<style scoped>\n",
       "    .dataframe tbody tr th:only-of-type {\n",
       "        vertical-align: middle;\n",
       "    }\n",
       "\n",
       "    .dataframe tbody tr th {\n",
       "        vertical-align: top;\n",
       "    }\n",
       "\n",
       "    .dataframe thead th {\n",
       "        text-align: right;\n",
       "    }\n",
       "</style>\n",
       "<table border=\"1\" class=\"dataframe\">\n",
       "  <thead>\n",
       "    <tr style=\"text-align: right;\">\n",
       "      <th></th>\n",
       "      <th>dataset</th>\n",
       "      <th>landmarks</th>\n",
       "    </tr>\n",
       "  </thead>\n",
       "  <tbody>\n",
       "    <tr>\n",
       "      <th>0</th>\n",
       "      <td>lgi_ppgi_forehead_cheeks</td>\n",
       "      <td>(lower_medial_forehead, glabella, left_lower_l...</td>\n",
       "    </tr>\n",
       "    <tr>\n",
       "      <th>1</th>\n",
       "      <td>lgi_ppgi_forehead_jaw</td>\n",
       "      <td>(lower_medial_forehead, glabella, left_lower_l...</td>\n",
       "    </tr>\n",
       "    <tr>\n",
       "      <th>2</th>\n",
       "      <td>lgi_ppgi_forehead_mustache</td>\n",
       "      <td>(lower_medial_forehead, glabella, left_lower_l...</td>\n",
       "    </tr>\n",
       "    <tr>\n",
       "      <th>3</th>\n",
       "      <td>lgi_ppgi_jaw_cheeks</td>\n",
       "      <td>(left_marionette_fold, right_marionette_fold, ...</td>\n",
       "    </tr>\n",
       "    <tr>\n",
       "      <th>4</th>\n",
       "      <td>lgi_ppgi_cheeks_mustache</td>\n",
       "      <td>(left_malar, right_malar, left_lower_cheek, ri...</td>\n",
       "    </tr>\n",
       "    <tr>\n",
       "      <th>5</th>\n",
       "      <td>lgi_ppgi_jaw_mustache</td>\n",
       "      <td>(left_marionette_fold, right_marionette_fold, ...</td>\n",
       "    </tr>\n",
       "  </tbody>\n",
       "</table>\n",
       "</div>"
      ],
      "text/plain": [
       "                      dataset  \\\n",
       "0    lgi_ppgi_forehead_cheeks   \n",
       "1       lgi_ppgi_forehead_jaw   \n",
       "2  lgi_ppgi_forehead_mustache   \n",
       "3         lgi_ppgi_jaw_cheeks   \n",
       "4    lgi_ppgi_cheeks_mustache   \n",
       "5       lgi_ppgi_jaw_mustache   \n",
       "\n",
       "                                           landmarks  \n",
       "0  (lower_medial_forehead, glabella, left_lower_l...  \n",
       "1  (lower_medial_forehead, glabella, left_lower_l...  \n",
       "2  (lower_medial_forehead, glabella, left_lower_l...  \n",
       "3  (left_marionette_fold, right_marionette_fold, ...  \n",
       "4  (left_malar, right_malar, left_lower_cheek, ri...  \n",
       "5  (left_marionette_fold, right_marionette_fold, ...  "
      ]
     },
     "execution_count": 127,
     "metadata": {},
     "output_type": "execute_result"
    }
   ],
   "source": [
    "# pd.DataFrame.from_dict(landmarks_dict, orient='index',)\n",
    "from itertools import chain, combinations\n",
    "\n",
    "def get_combinations(elements, min_len=2, max_len=3):\n",
    "    combs = list(chain.from_iterable(combinations(elements, r) for r in range(min_len,max_len)))\n",
    "    return [tuple(i) for i in combs]\n",
    "\n",
    "roi_list = [ele for ele in list(rois.keys()) if ele != 'temple' and ele != 'nose']\n",
    "roi_combinations = get_combinations(roi_list, min_len, min_len+1)\n",
    "print(len(roi_combinations),roi_combinations)\n",
    "\n",
    "# roi_combinations = [('forehead', 'mustache'), ('mustache', 'jaw'), ('mustache', 'cheeks')]\n",
    "landmarks_dict = dict()\n",
    "for roi_combination in roi_combinations:\n",
    "    landmarks_dict[roi_combination] = [ldmk for roi in list(map(rois.get, roi_combination)) for ldmk in roi]\n",
    "landmarks_list = list(landmarks_dict.values())\n",
    "print(landmarks_dict)\n",
    "\n",
    "print(landmarks_dict)\n",
    "df_ldmk = pd.DataFrame([landmarks_dict.keys(), landmarks_dict.values()], index=['landmarks', 'landmarks_list']).T\n",
    "df_ldmk['landmarks_list'] = df_ldmk['landmarks_list'].apply(lambda x: tuple(x))\n",
    "df_ldmk['landmarks'] = df_ldmk['landmarks'].apply(lambda x: f'{dataset_name}_'+'_'.join(x))\n",
    "df_ldmk = df_ldmk.rename({'landmarks':'dataset','landmarks_list':'landmarks'}, axis=1)\n",
    "df_ldmk\n",
    "# df.merge(df_ldmk, on='landmarks', how='left')"
   ]
  },
  {
   "cell_type": "code",
   "execution_count": 130,
   "metadata": {},
   "outputs": [
    {
     "name": "stderr",
     "output_type": "stream",
     "text": [
      "C:\\Users\\erolland\\AppData\\Local\\Temp\\3\\ipykernel_26220\\3922332175.py:5: PerformanceWarning: \n",
      "your performance may suffer as PyTables will pickle object types that it cannot\n",
      "map directly to c-types [inferred_type->mixed,key->block0_values] [items->Index(['method', 'dataset', 'videoFilename', 'RMSE', 'MAE', 'PCC', 'CCC',\n",
      "       'SNR', 'MAX', 'MAD', 'DTW', 'bpmGT', 'bpmES', 'timeGT', 'timeES',\n",
      "       'landmarks'],\n",
      "      dtype='object')]\n",
      "\n",
      "  n.to_hdf(f'../results/test_landmarks/{dataset_name.upper()}_combine_roi.h5', key='df')\n"
     ]
    }
   ],
   "source": [
    "# n = new.merge(df_ldmk, on='landmarks', how='left')\n",
    "# n['dataset_x'] = n['dataset_y']\n",
    "# # n.dataset_x.unique()\n",
    "# n = n.rename({'dataset_x':'dataset'}, axis=1).drop(columns=['dataset_y'])\n",
    "# n.to_hdf(f'../results/test_landmarks/{dataset_name.upper()}_combine_roi.h5', key='df')"
   ]
  }
 ],
 "metadata": {
  "kernelspec": {
   "display_name": "project",
   "language": "python",
   "name": "python3"
  },
  "language_info": {
   "codemirror_mode": {
    "name": "ipython",
    "version": 3
   },
   "file_extension": ".py",
   "mimetype": "text/x-python",
   "name": "python",
   "nbconvert_exporter": "python",
   "pygments_lexer": "ipython3",
   "version": "3.9.7"
  }
 },
 "nbformat": 4,
 "nbformat_minor": 2
}

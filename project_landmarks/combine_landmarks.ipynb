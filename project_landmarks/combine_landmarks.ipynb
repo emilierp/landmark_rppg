{
 "cells": [
  {
   "cell_type": "markdown",
   "metadata": {},
   "source": [
    "Goal: Investigate different combination of landmarks\n",
    "\n",
    "Ex: glabella and chin, etc ..."
   ]
  },
  {
   "cell_type": "code",
   "execution_count": 2,
   "metadata": {},
   "outputs": [],
   "source": [
    "%load_ext autoreload\n",
    "%autoreload 2\n",
    "\n",
    "import pyVHR as vhr\n",
    "import numpy as np\n",
    "from pyVHR.analysis.pipeline import Pipeline\n",
    "from pyVHR.plot.visualize import *\n",
    "import os\n",
    "import plotly.express as px\n",
    "from pyVHR.utils.errors import getErrors, printErrors, displayErrors\n",
    "\n",
    "import constants\n",
    "import pandas as pd\n",
    "import pyVHR.analysis.pipelineLandmarks as custom_pipeline\n",
    "\n",
    "vhr.plot.VisualizeParams.renderer = 'vscode' "
   ]
  },
  {
   "cell_type": "code",
   "execution_count": 3,
   "metadata": {},
   "outputs": [
    {
     "name": "stdout",
     "output_type": "stream",
     "text": [
      "0 D:/datasets_rppg/MR-NIRP_indoor\\Subject1_motion_940\\Subject1_motion_940\\RGB_corrected\\Subject1_motion_940.avi\n",
      "1 D:/datasets_rppg/MR-NIRP_indoor\\Subject1_still_940-015\\Subject1_still_940\\RGB_corrected\\Subject1_still_940.avi\n",
      "2 D:/datasets_rppg/MR-NIRP_indoor\\Subject2_motion_940\\Subject2_motion_940\\RGB_corrected\\Subject2_motion_940.avi\n",
      "3 D:/datasets_rppg/MR-NIRP_indoor\\Subject2_still_940-002\\Subject2_still_940\\RGB_corrected\\Subject2_still_940.avi\n",
      "4 D:/datasets_rppg/MR-NIRP_indoor\\Subject3_motion_940\\Subject3_motion_940\\RGB_corrected\\Subject3_motion_940.avi\n",
      "5 D:/datasets_rppg/MR-NIRP_indoor\\Subject3_still_940-012\\Subject3_still_940\\RGB_corrected\\Subject3_still_940.avi\n",
      "6 D:/datasets_rppg/MR-NIRP_indoor\\Subject4_motion_940\\Subject4_motion_940\\RGB_corrected\\Subject4_motion_940.avi\n",
      "7 D:/datasets_rppg/MR-NIRP_indoor\\Subject4_still_940-004\\Subject4_still_940\\RGB_corrected\\Subject4_still_940.avi\n",
      "8 D:/datasets_rppg/MR-NIRP_indoor\\Subject5_still_940-003\\Subject5_still_940\\RGB_corrected\\Subject5_still_940.avi\n",
      "9 D:/datasets_rppg/MR-NIRP_indoor\\Subject6_motion_940-008\\Subject6_motion_940\\RGB_corrected\\Subject6_motion_940.avi\n",
      "10 D:/datasets_rppg/MR-NIRP_indoor\\Subject6_still_940-005\\Subject6_still_940\\RGB_corrected\\Subject6_still_940.avi\n",
      "11 D:/datasets_rppg/MR-NIRP_indoor\\Subject7_motion_940\\Subject7_motion_940\\RGB_corrected\\Subject7_motion_940.avi\n",
      "12 D:/datasets_rppg/MR-NIRP_indoor\\Subject7_still_940-010\\Subject7_still_940\\RGB_corrected\\Subject7_still_940.avi\n",
      "13 D:/datasets_rppg/MR-NIRP_indoor\\Subject8_motion_940\\Subject8_motion_940\\RGB_corrected\\Subject8_motion_940.avi\n",
      "14 D:/datasets_rppg/MR-NIRP_indoor\\Subject8_still_940-001\\Subject8_still_940\\RGB_corrected\\Subject8_still_940.avi\n"
     ]
    }
   ],
   "source": [
    "# -- LOAD A DATASET\n",
    "\n",
    "dataset_name = 'mr_nirp'    \n",
    "video_DIR, BVP_DIR = constants.get_dataset_paths(dataset_name)\n",
    "\n",
    "dataset = vhr.datasets.datasetFactory(dataset_name, videodataDIR=video_DIR, BVPdataDIR=BVP_DIR)\n",
    "allvideo = dataset.videoFilenames\n",
    "\n",
    "videos = constants.get_video_settings(dataset_name)\n",
    "print(videos)\n",
    "\n",
    "# print the list of video names with the progressive index (idx)\n",
    "for v in range(len(allvideo)):\n",
    "  print(v, allvideo[v])"
   ]
  },
  {
   "cell_type": "code",
   "execution_count": 5,
   "metadata": {},
   "outputs": [
    {
     "name": "stdout",
     "output_type": "stream",
     "text": [
      "Patch size for mr_nirp is 60 \n",
      "Testing ROI = mustache with minimum 2 landmarks\n"
     ]
    }
   ],
   "source": [
    "# -- PARAMETER SETTING\n",
    "\n",
    "roi = 'mustache'      # jaw, forehead, cheeks, nose, temple, lip\n",
    "wsize = 8        # seconds of video processed (with overlapping) for each estimate \n",
    "min_len = 2     # minimum number of landmarks tested\n",
    "patch_size = constants.get_patch_size(dataset_name)\n",
    "print(f\"Patch size for {dataset_name} is {patch_size} \")\n",
    "print(f\"Testing ROI = {roi} with minimum {min_len} landmarks\")  "
   ]
  },
  {
   "cell_type": "markdown",
   "metadata": {},
   "source": [
    "# Combinations"
   ]
  },
  {
   "cell_type": "code",
   "execution_count": 9,
   "metadata": {},
   "outputs": [],
   "source": [
    "rois = {\n",
    "  'forehead': [   \n",
    "      'lower_medial_forehead','glabella','left_lower_lateral_forehead','right_lower_lateral_forehead'\n",
    "    ],\n",
    " 'nose': [\n",
    "    'upper_nasal_dorsum','lower_nasal_dorsum','left_mid_nasal_sidewall','right_mid_nasal_sidewall','left_lower_nasal_sidewall',\n",
    "    'right_lower_nasal_sidewall','nasal_tip','soft_triangle','left_ala','right_ala'\n",
    "  ],\n",
    "  'cheeks':[\n",
    "    'left_malar','right_malar', 'left_lower_cheek','right_lower_cheek'\n",
    "  ],\n",
    "  'jaw':[\n",
    "    'left_marionette_fold','right_marionette_fold','chin'\n",
    "  ],\n",
    "  'temple':[\n",
    "    'left_temporal','right_temporal'\n",
    "  ],\n",
    "  'mustache':[\n",
    "    'left_nasolabial_fold','right_nasolabial_fold','left_upper_lip','right_upper_lip','philtrum'\n",
    "  ],\n",
    "}\n",
    "\n",
    "forehead_params = [['left_lower_lateral_forehead', 'right_lower_lateral_forehead'], ['glabella', 'lower_medial_forehead'],  ['left_lower_lateral_forehead', 'lower_medial_forehead', 'right_lower_lateral_forehead'],['glabella', 'left_lower_lateral_forehead', 'right_lower_lateral_forehead'],['glabella', 'left_lower_lateral_forehead', 'lower_medial_forehead', 'right_lower_lateral_forehead']]\n",
    "cheeks_params =  [['left_malar', 'right_malar'], ['left_lower_cheek', 'right_lower_cheek'], ['left_lower_cheek', 'left_malar', 'right_lower_cheek', 'right_malar']]\n",
    "jaw_params = [['left_marionette_fold', 'right_marionette_fold'], ['chin', 'left_marionette_fold', 'right_marionette_fold']]\n",
    "mustache_params = [['left_nasolabial_fold', 'right_nasolabial_fold'], ['left_upper_lip', 'right_upper_lip'], ['left_nasolabial_fold', 'philtrum', 'right_nasolabial_fold'], ['left_upper_lip', 'philtrum', 'right_upper_lip'], ['left_nasolabial_fold', 'left_upper_lip', 'right_nasolabial_fold', 'right_upper_lip'], ['left_nasolabial_fold', 'left_upper_lip', 'philtrum', 'right_nasolabial_fold', 'right_upper_lip']]"
   ]
  },
  {
   "cell_type": "code",
   "execution_count": 54,
   "metadata": {},
   "outputs": [
    {
     "name": "stdout",
     "output_type": "stream",
     "text": [
      "philtrum [2, 97, 167, 37, 0, 267, 393, 326]\n",
      "lower_medial_forehead [10, 109, 108, 151, 337, 338]\n"
     ]
    },
    {
     "data": {
      "text/html": [
       "<div>\n",
       "<style scoped>\n",
       "    .dataframe tbody tr th:only-of-type {\n",
       "        vertical-align: middle;\n",
       "    }\n",
       "\n",
       "    .dataframe tbody tr th {\n",
       "        vertical-align: top;\n",
       "    }\n",
       "\n",
       "    .dataframe thead th {\n",
       "        text-align: right;\n",
       "    }\n",
       "</style>\n",
       "<table border=\"1\" class=\"dataframe\">\n",
       "  <thead>\n",
       "    <tr style=\"text-align: right;\">\n",
       "      <th></th>\n",
       "      <th>name</th>\n",
       "      <th>values</th>\n",
       "    </tr>\n",
       "  </thead>\n",
       "  <tbody>\n",
       "    <tr>\n",
       "      <th>14</th>\n",
       "      <td>philtrum</td>\n",
       "      <td>[2, 97, 167, 37, 0, 267, 393, 326]</td>\n",
       "    </tr>\n",
       "    <tr>\n",
       "      <th>0</th>\n",
       "      <td>lower_medial_forehead</td>\n",
       "      <td>[10, 109, 108, 151, 337, 338]</td>\n",
       "    </tr>\n",
       "  </tbody>\n",
       "</table>\n",
       "</div>"
      ],
      "text/plain": [
       "                     name                              values\n",
       "14               philtrum  [2, 97, 167, 37, 0, 267, 393, 326]\n",
       "0   lower_medial_forehead       [10, 109, 108, 151, 337, 338]"
      ]
     },
     "execution_count": 54,
     "metadata": {},
     "output_type": "execute_result"
    }
   ],
   "source": [
    "all_landmarks = vhr.extraction.utils.CustomLandmarks().get_all_landmarks()\n",
    "all_landmarks = pd.DataFrame(all_landmarks.items(), columns=['name','values'])\n",
    "combination = all_landmarks.sample(min_len)\n",
    "\n",
    "# iterate through the rows of the dataframe\n",
    "for index, row in combination.copy().iterrows():\n",
    "    print(row['name'], row['values'])\n",
    "    new_row = None\n",
    "    if 'left' in row['name']:\n",
    "        new_row = all_landmarks[all_landmarks['name'].str.contains('right_'+'_'.join(row['name'].split('_')[1:]))]\n",
    "    if 'right' in row['name']:\n",
    "        new_row = all_landmarks[all_landmarks['name'].str.contains('left_'+'_'.join(row['name'].split('_')[1:]))]\n",
    "    if new_row is not None:\n",
    "        combination = pd.concat([combination, new_row], ignore_index=True)\n",
    "combination"
   ]
  }
 ],
 "metadata": {
  "kernelspec": {
   "display_name": "project",
   "language": "python",
   "name": "python3"
  },
  "language_info": {
   "codemirror_mode": {
    "name": "ipython",
    "version": 3
   },
   "file_extension": ".py",
   "mimetype": "text/x-python",
   "name": "python",
   "nbconvert_exporter": "python",
   "pygments_lexer": "ipython3",
   "version": "3.9.7"
  }
 },
 "nbformat": 4,
 "nbformat_minor": 2
}
